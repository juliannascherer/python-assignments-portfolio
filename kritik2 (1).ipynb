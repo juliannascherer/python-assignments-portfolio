{
 "cells": [
  {
   "cell_type": "code",
   "execution_count": null,
   "id": "initial_id",
   "metadata": {
    "collapsed": true
   },
   "outputs": [],
   "source": [
    "import numpy as np\n",
    "np.seterr(divide='ignore')\n",
    "\n",
    "def roots (f,a,b):\n",
    "    #defining a small value slightly larger than zero\n",
    "    small_value = 10**-10\n",
    "\n",
    "    while (b-a) > small_value:\n",
    "        midpoint_value = (a + b) / 2\n",
    "        #determining if there is a change in sign between a and b\n",
    "        #if yes, it means there is a root in the interval\n",
    "        if f(a) <= 0 <=f (b) or f(b) <= 0 <= f(a):\n",
    "\n",
    "            #scenario where the midpoint value is found\n",
    "            if f(midpoint_value) == 0:\n",
    "                #rounding the root to 10 decimal places\n",
    "                return round (midpoint_value, 10)\n",
    "\n",
    "            elif f(a) == 0:\n",
    "                #rounding the root to 10 decimal places\n",
    "                return round (a, 10)\n",
    "\n",
    "            elif f(b) == 0:\n",
    "                #rounding the root to 10 decimal places\n",
    "                return round (b, 10)\n",
    "\n",
    "            #values to the left of the midpoint of a and b\n",
    "            #a negative values indicated there is a change of sign (root) between these values\n",
    "            if (f(a) <= 0 <= f(midpoint_value)) or (f(midpoint_value)<=0<=f(a)):\n",
    "                b = midpoint_value\n",
    "\n",
    "            #values to the right of the midpoint of a and b\n",
    "            elif (f(midpoint_value) <= 0 <= f(b)) or (f(b)<=0<=f(midpoint_value)):\n",
    "                a = midpoint_value\n",
    "\n",
    "        else:\n",
    "            return \"The intermediate value theorem is inconclusive\"\n",
    "\n",
    "    #returning the root value to 10 decimal places\n",
    "    return round (midpoint_value, 10)\n",
    "\n",
    "\n",
    "def f1(x):\n",
    "    return np.exp(x) + np.log(x)\n",
    "\n",
    "def f2(x):\n",
    "    return np.arctan(x) - x**2\n",
    "\n",
    "def f3(x):\n",
    "    return np.sin(x) / np.log(x)\n",
    "\n",
    "def f4(x):\n",
    "    return np.log(np.cos(x))\n",
    "\n",
    "print (roots (f1, 0, 1))\n",
    "print (roots (f2,0,2))\n",
    "print (roots (f3,3,4))\n",
    "print (roots (f4,5,7))\n"
   ]
  }
 ],
 "metadata": {
  "kernelspec": {
   "display_name": "Python 3",
   "language": "python",
   "name": "python3"
  },
  "language_info": {
   "codemirror_mode": {
    "name": "ipython",
    "version": 2
   },
   "file_extension": ".py",
   "mimetype": "text/x-python",
   "name": "python",
   "nbconvert_exporter": "python",
   "pygments_lexer": "ipython2",
   "version": "2.7.6"
  }
 },
 "nbformat": 4,
 "nbformat_minor": 5
}
